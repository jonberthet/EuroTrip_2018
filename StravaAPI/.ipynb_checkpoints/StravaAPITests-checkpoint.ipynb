{
 "cells": [
  {
   "cell_type": "code",
   "execution_count": 1,
   "metadata": {},
   "outputs": [],
   "source": [
    "# python 3.6\n",
    "# from __future__ import print_statement\n",
    "\n",
    "\n",
    "import time\n",
    "import swagger_client\n",
    "from swagger_client.rest import ApiException\n",
    "from pprint import pprint\n"
   ]
  },
  {
   "cell_type": "markdown",
   "metadata": {},
   "source": [
    "Trying to get swagger_client from here:\n",
    "\n",
    "https://github.com/platformsh/platformsh-client-python/tree/master/swagger-client"
   ]
  },
  {
   "cell_type": "code",
   "execution_count": 77,
   "metadata": {},
   "outputs": [],
   "source": [
    "from stravalib import Client\n",
    "client = Client()\n",
    "url = client.authorization_url(client_id=25004,\n",
    "                               redirect_uri='http://myapp.example.com/authorization')"
   ]
  },
  {
   "cell_type": "code",
   "execution_count": 78,
   "metadata": {},
   "outputs": [],
   "source": [
    "url = client.authorization_url(client_id=25004,\n",
    "                               redirect_uri='http://127.0.0.1:5000/authorization')"
   ]
  },
  {
   "cell_type": "code",
   "execution_count": 90,
   "metadata": {},
   "outputs": [
    {
     "ename": "SyntaxError",
     "evalue": "invalid syntax (<ipython-input-90-d4568a24a496>, line 1)",
     "output_type": "error",
     "traceback": [
      "\u001b[0;36m  File \u001b[0;32m\"<ipython-input-90-d4568a24a496>\"\u001b[0;36m, line \u001b[0;32m1\u001b[0m\n\u001b[0;31m    curl -X POST https://www.strava.com/oauth/token -F client_id=25004 -F client_secret=0e545bda8ae5acb369c5f59fac04884765daaa38 -F code=0f1a813706c694e38a50f7e9f5f4e962c4ef506a\u001b[0m\n\u001b[0m               ^\u001b[0m\n\u001b[0;31mSyntaxError\u001b[0m\u001b[0;31m:\u001b[0m invalid syntax\n"
     ]
    }
   ],
   "source": [
    "# http://yizeng.me/2017/01/11/get-a-strava-api-access-token-with-write-permission/\n",
    "# Need to authorize for every curl command\n",
    "curl -X POST https://www.strava.com/oauth/token \\\n",
    "-F client_id=25004 \\\n",
    "-F client_secret=0e545bda8ae5acb369c5f59fac04884765daaa38 \\\n",
    "-F code=0cb36ae46bdf13fe2c8c8647b4201ab9d2bcb5c4"
   ]
  },
  {
   "cell_type": "code",
   "execution_count": 29,
   "metadata": {},
   "outputs": [
    {
     "data": {
      "text/plain": [
       "<Athlete id=29939517 firstname='Jon' lastname='b'>"
      ]
     },
     "execution_count": 29,
     "metadata": {},
     "output_type": "execute_result"
    }
   ],
   "source": [
    "# https://pythonhosted.org/stravalib/usage/overview.html#retrieving-entity-result-sets\n",
    "from stravalib import Client\n",
    "client = Client(access_token=\"1ee7f7dede077324f35a07eb5beb4261b2586bf7\")\n",
    "client.get_athlete() # Get current athlete details"
   ]
  },
  {
   "cell_type": "code",
   "execution_count": 58,
   "metadata": {},
   "outputs": [
    {
     "data": {
      "text/plain": [
       "10"
      ]
     },
     "execution_count": 58,
     "metadata": {},
     "output_type": "execute_result"
    }
   ],
   "source": [
    "activities = client.get_activities()\n",
    "activities.limit = 10\n",
    "# assert len(list(activities)) == 10\n"
   ]
  },
  {
   "cell_type": "code",
   "execution_count": 31,
   "metadata": {},
   "outputs": [
    {
     "ename": "AttributeError",
     "evalue": "module 'swagger_client' has no attribute 'AthletesApi'",
     "output_type": "error",
     "traceback": [
      "\u001b[0;31m---------------------------------------------------------------------------\u001b[0m",
      "\u001b[0;31mAttributeError\u001b[0m                            Traceback (most recent call last)",
      "\u001b[0;32m<ipython-input-31-b272846e0e33>\u001b[0m in \u001b[0;36m<module>\u001b[0;34m()\u001b[0m\n\u001b[1;32m     10\u001b[0m \u001b[0;34m\u001b[0m\u001b[0m\n\u001b[1;32m     11\u001b[0m \u001b[0;31m# create an instance of the API class\u001b[0m\u001b[0;34m\u001b[0m\u001b[0;34m\u001b[0m\u001b[0m\n\u001b[0;32m---> 12\u001b[0;31m \u001b[0mapi_instance\u001b[0m \u001b[0;34m=\u001b[0m \u001b[0mswagger_client\u001b[0m\u001b[0;34m.\u001b[0m\u001b[0mAthletesApi\u001b[0m\u001b[0;34m(\u001b[0m\u001b[0;34m)\u001b[0m\u001b[0;34m\u001b[0m\u001b[0m\n\u001b[0m\u001b[1;32m     13\u001b[0m \u001b[0mid\u001b[0m \u001b[0;34m=\u001b[0m \u001b[0;36m56\u001b[0m \u001b[0;31m# Integer | The identifier of the athlete.\u001b[0m\u001b[0;34m\u001b[0m\u001b[0m\n\u001b[1;32m     14\u001b[0m \u001b[0mpage\u001b[0m \u001b[0;34m=\u001b[0m \u001b[0;36m56\u001b[0m \u001b[0;31m# Integer | Page number. (optional)\u001b[0m\u001b[0;34m\u001b[0m\u001b[0m\n",
      "\u001b[0;31mAttributeError\u001b[0m: module 'swagger_client' has no attribute 'AthletesApi'"
     ]
    }
   ],
   "source": [
    "# GET ATHLETE STATS (getStats)\n",
    "# from __future__ import print_statement\n",
    "import time\n",
    "import swagger_client\n",
    "from swagger_client.rest import ApiException\n",
    "from pprint import pprint\n",
    "\n",
    "# Configure OAuth2 access token for authorization: strava_oauth\n",
    "swagger_client.configuration.access_token = '1ee7f7dede077324f35a07eb5beb4261b2586bf7'\n",
    "\n",
    "# create an instance of the API class\n",
    "api_instance = swagger_client.AthletesApi()\n",
    "id = 29939517 # Integer | The identifier of the athlete.\n",
    "page = 56 # Integer | Page number. (optional)\n",
    "perPage = 56 # Integer | Number of items per page. Defaults to 30. (optional) (default to 30)\n",
    "\n",
    "try: \n",
    "    # Get Athlete Stats\n",
    "    api_response = api_instance.getStats(id, page=page, perPage=perPage)\n",
    "    pprint(api_response)\n",
    "except ApiException as e:\n",
    "    print(\"Exception when calling AthletesApi->getStats: %s\\n\" % e)"
   ]
  },
  {
   "cell_type": "markdown",
   "metadata": {},
   "source": [
    "### Run code below to get latest Strava updates.\n",
    "Then in terminal, run app.py print out the latest runs"
   ]
  },
  {
   "cell_type": "code",
   "execution_count": 7,
   "metadata": {},
   "outputs": [],
   "source": [
    "import requests\n",
    "import os\n",
    "import sys\n",
    "import csv\n",
    "\n",
    "# token = os.environ[\"0e545bda8ae5acb369c5f59fac04884765daaa38\"]\n",
    "token = '1ee7f7dede077324f35a07eb5beb4261b2586bf7'\n",
    "headers = {'Authorization': \"Bearer {0}\".format(token)}\n",
    "\n",
    "with open(\"runs.csv\", \"w\") as runs_file:\n",
    "    writer = csv.writer(runs_file, delimiter=\",\")\n",
    "    writer.writerow([\"id\", \"polyline\"])\n",
    "\n",
    "    page = 1\n",
    "    while True:\n",
    "        r = requests.get(\"https://www.strava.com/api/v3/athlete/activities?page={0}\".format(page), headers = headers)\n",
    "        response = r.json()\n",
    "\n",
    "        if len(response) == 0:\n",
    "            break\n",
    "        else:\n",
    "            for activity in response:\n",
    "                r = requests.get(\"https://www.strava.com/api/v3/activities/{0}?include_all_efforts=true\".format(activity[\"id\"]), headers = headers)\n",
    "                polyline = r.json()[\"map\"][\"polyline\"]\n",
    "                writer.writerow([activity[\"id\"], polyline])\n",
    "            page += 1\n"
   ]
  }
 ],
 "metadata": {
  "kernelspec": {
   "display_name": "Python 3",
   "language": "python",
   "name": "python3"
  },
  "language_info": {
   "codemirror_mode": {
    "name": "ipython",
    "version": 3
   },
   "file_extension": ".py",
   "mimetype": "text/x-python",
   "name": "python",
   "nbconvert_exporter": "python",
   "pygments_lexer": "ipython3",
   "version": "3.6.4"
  }
 },
 "nbformat": 4,
 "nbformat_minor": 2
}
